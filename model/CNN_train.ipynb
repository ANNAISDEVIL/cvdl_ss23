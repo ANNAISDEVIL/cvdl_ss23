{
 "cells": [
  {
   "cell_type": "code",
   "execution_count": 1,
   "metadata": {},
   "outputs": [
    {
     "name": "stderr",
     "output_type": "stream",
     "text": [
      "d:\\Code\\University\\Code_LMU\\GAN-BERT-Classifier\\py39env\\lib\\site-packages\\tqdm\\auto.py:22: TqdmWarning: IProgress not found. Please update jupyter and ipywidgets. See https://ipywidgets.readthedocs.io/en/stable/user_install.html\n",
      "  from .autonotebook import tqdm as notebook_tqdm\n"
     ]
    },
    {
     "name": "stdout",
     "output_type": "stream",
     "text": [
      "pygame 2.5.0 (SDL 2.28.0, Python 3.9.5)\n",
      "Hello from the pygame community. https://www.pygame.org/contribute.html\n"
     ]
    }
   ],
   "source": [
    "import torch\n",
    "from torch import nn\n",
    "import torch.optim as optim\n",
    "import pygame\n",
    "import json \n",
    "from torch.utils.data import Dataset, DataLoader\n",
    "from torchvision import transforms\n",
    "from PIL import Image\n",
    "import matplotlib.pyplot as plt\n",
    "import os"
   ]
  },
  {
   "cell_type": "code",
   "execution_count": 2,
   "metadata": {},
   "outputs": [],
   "source": [
    "# SCREEN_WIDTH    = 100\n",
    "# SCREEN_HEIGHT   = 20\n",
    "# FONT_SIZE       = 10 \n",
    "\n",
    "SEED = 0    # TODO: define seed of python, numpy, torch\n",
    "\n",
    "SCREEN_WIDTH    = 130\n",
    "SCREEN_HEIGHT   = 25\n",
    "FONT_SIZE       = 15 \n",
    "# 4680\n",
    "FONT_PATH           = \"../converttext/noto-sans.regular.ttf\"\n",
    "PATH_WORD_NUM_DICT  = 'word_num_dict.json'\n",
    "PATH_WORD_TO_ID     = 'word_to_id_dict.json'\n",
    "PATH_ID_TO_WORD     = 'id_to_word_dict.json'\n",
    "\n",
    "DEVICE_NAME         = \"cuda:0\"\n",
    "device = torch.device(\"cuda:0\" if torch.cuda.is_available() else \"cpu\")\n",
    "\n",
    "MODEL_OUT_CHANNELS  = 16\n",
    "MODEL_KERNEL_SIZE   = 3\n",
    "MODEL_SITRIDE       = 1\n",
    "MODEL_PADDING       = 1\n",
    "MODEL_LINEAR_SIZE   = 12480\n",
    "OPTIM_LEARNING_RATE = 0.001\n",
    "\n",
    "TRAIN_BATCH_SIZE    = 16\n",
    "DEV_BATCH_SIZE      = 16\n",
    "TRAIN_NUM_EPOCHS    = 10\n",
    "\n",
    "PATH_FOLDER_NAME = f\"CNN_\"\n",
    "os.mkdir(PATH_FOLDER_NAME)\n",
    "\n",
    "PATH_CONFIG = \"./{PATH_FOLDER_NAME}/config.json\"    # TODO: save config in json\n",
    "PATH_TRAIN_LOSS_PLOT = f\"./{PATH_FOLDER_NAME}/train_loss.jpg\"\n",
    "PATH_DEV_ACC_PLOT    = f\"./{PATH_FOLDER_NAME}/dev_loss.jpg\"\n",
    "PATH_DEV_CONF_PLOT   = f\"./{PATH_FOLDER_NAME}/dev_loss.jpg\"\n",
    "\n",
    "PATH_DATA   = f\"./{PATH_FOLDER_NAME}/train_data.csv\"    # TODO: save data in csv\n",
    "PATH_MODEL  = f\"./{PATH_FOLDER_NAME}/CNN.pth\""
   ]
  },
  {
   "cell_type": "code",
   "execution_count": 3,
   "metadata": {},
   "outputs": [],
   "source": [
    "class CNN(nn.Module):\n",
    "    def __init__(self, out_channels=6, kernel_size=1, stride=1, padding=0, vocab_size=5000, linear_size=5000, normalization=False):\n",
    "        super().__init__()\n",
    "        self.conv1 = nn.Conv2d(\n",
    "            in_channels=1, out_channels=out_channels, \n",
    "            kernel_size=kernel_size, stride=stride, padding=padding\n",
    "        )\n",
    "        self.relu1 = nn.ReLU()\n",
    "        self.maxpool1 = nn.MaxPool2d(kernel_size=2, stride=2)\n",
    "        self.fc1 = nn.Linear(linear_size, vocab_size) \n",
    "\n",
    "    def forward(self, x):\n",
    "        x = self.conv1(x)\n",
    "        x = self.relu1(x)\n",
    "        x = self.maxpool1(x)\n",
    "        x = x.view(x.size(0), -1)\n",
    "        x = self.fc1(x)\n",
    "        return x\n"
   ]
  },
  {
   "cell_type": "code",
   "execution_count": 4,
   "metadata": {},
   "outputs": [],
   "source": [
    "pygame.init()\n",
    "font_noto_sans_regular = pygame.font.Font(FONT_PATH, FONT_SIZE)\n",
    "\n",
    "\n",
    "def to_image(text:str, font, id:int=None, noise=False):\n",
    "  # pygame.init()\n",
    "  # screen = pygame.display.set_mode((SCREEN_WIDTH, SCREEN_HEIGHT))\n",
    "  screen = pygame.Surface((SCREEN_WIDTH, SCREEN_HEIGHT))\n",
    "  screen.fill((255, 255, 255))\n",
    "  # draw image\n",
    "  img = font.render(str(text), True, (0, 0, 0))\n",
    "  screen.blit(img, (2, 0))\n",
    "  for event in pygame.event.get():\n",
    "    if event.type == pygame.QUIT:\n",
    "      run = False\n",
    "  # pygame.display.flip() \n",
    "  # Save the screen as an image when the program finishes\n",
    "  if noise == False:\n",
    "    # TODO: obtain font name\n",
    "    filename = f\"./temp_image/word_{str(id)}_{str(text)}_notoSans.png\"\n",
    "  else:\n",
    "    filename = f\"./temp_image/word_{str(id)}_{str(text)}_notoSans_noised.png\"\n",
    "  pygame.image.save(screen, filename)\n",
    "  # print(\"Screen saved as \", filename)\n",
    "  # pygame.quit()\n",
    "  return filename\n",
    "\n",
    "image_path = to_image(text=\"1nd1st1nguishαble\", font=font_noto_sans_regular, id=5, noise=False)\n"
   ]
  },
  {
   "cell_type": "code",
   "execution_count": 5,
   "metadata": {},
   "outputs": [
    {
     "name": "stdout",
     "output_type": "stream",
     "text": [
      "test load: length of word_num_dict: 4572\n",
      "test load: length of word_to_id_dict_test: 4572\n",
      "test load: length of id_to_word_dict_test: 4572\n",
      "note index needs to use str(index)\n",
      "test load: index: [5], word in id_to_word_dict: [defines], id in word_id_dict: [5]\n"
     ]
    }
   ],
   "source": [
    "# load dictionary\n",
    "\n",
    "with open(PATH_WORD_NUM_DICT, 'r') as fp:\n",
    "    word_num_dict_test = json.load(fp)\n",
    "with open(PATH_WORD_TO_ID, 'r') as fp:\n",
    "    word_to_id_dict_test = json.load(fp)\n",
    "with open(PATH_ID_TO_WORD, 'r') as fp:\n",
    "    id_to_word_dict_test = json.load(fp)\n",
    "    \n",
    "print(\"test load: length of word_num_dict:\", len(word_num_dict_test.keys()))\n",
    "print(\"test load: length of word_to_id_dict_test:\", len(word_to_id_dict_test.keys()))\n",
    "print(\"test load: length of id_to_word_dict_test:\", len(id_to_word_dict_test.keys()))\n",
    "print('note index needs to use str(index)')\n",
    "print(f\"test load: index: [5], word in id_to_word_dict: [{id_to_word_dict_test[str(5)]}], id in word_id_dict: [{word_to_id_dict_test[id_to_word_dict_test['5']]}]\")\n",
    "\n",
    "VOCAB_SIZE = len(word_num_dict_test.keys())\n"
   ]
  },
  {
   "cell_type": "code",
   "execution_count": 6,
   "metadata": {},
   "outputs": [],
   "source": [
    "# define dataset\n",
    "\n",
    "transform_norm = transforms.Compose([\n",
    "    transforms.ToTensor(),\n",
    "])\n",
    "class WordImageIDDataset(Dataset):\n",
    "    def __init__(self, word_to_id_list, font, noise=False):\n",
    "        self.word_to_id_list = word_to_id_list\n",
    "        self.font = font\n",
    "        self.noise = noise\n",
    "    \n",
    "    def __len__(self):\n",
    "        return len(self.word_to_id_list)\n",
    "    \n",
    "    def __getitem__(self, index):\n",
    "        ''' index is not token ID '''\n",
    "        output_word = self.word_to_id_list[index][0]\n",
    "        image_path = to_image(\n",
    "            text=output_word, \n",
    "            font=self.font,\n",
    "            id=index, \n",
    "            noise=self.noise)\n",
    "        \n",
    "        # for path in image_paths:\n",
    "        output_img = Image.open(image_path).convert('L')\n",
    "        output_img = transform_norm(output_img)\n",
    "        id = self.word_to_id_list[index][1]\n",
    "        # output_id_onehot = torch.zeros(1, VOCAB_SIZE)\n",
    "        # output_id_onehot[0][id] = 1\n",
    "        output_id_onehot = torch.zeros(VOCAB_SIZE)\n",
    "        output_id_onehot[id] = 1\n",
    "                \n",
    "        output = {'word'    : output_word,\n",
    "                  'image'   : output_img,\n",
    "                  'id'      : output_id_onehot}\n",
    "        return output"
   ]
  },
  {
   "cell_type": "code",
   "execution_count": 7,
   "metadata": {},
   "outputs": [],
   "source": [
    "model = CNN(out_channels=MODEL_OUT_CHANNELS, \n",
    "            kernel_size=MODEL_KERNEL_SIZE, \n",
    "            stride=MODEL_SITRIDE, \n",
    "            padding=MODEL_PADDING, vocab_size=VOCAB_SIZE, normalization=False, linear_size=MODEL_LINEAR_SIZE).to(device)\n",
    "criterion = nn.CrossEntropyLoss()\n",
    "optimizer = optim.Adam(model.parameters(), lr=OPTIM_LEARNING_RATE)\n",
    "dataset = WordImageIDDataset(word_to_id_list = list(word_to_id_dict_test.items()),\n",
    "                            font=font_noto_sans_regular,\n",
    "                            noise=False)\n",
    "dataloader = DataLoader(dataset, batch_size=TRAIN_BATCH_SIZE, shuffle=True)"
   ]
  },
  {
   "cell_type": "code",
   "execution_count": 8,
   "metadata": {},
   "outputs": [
    {
     "name": "stdout",
     "output_type": "stream",
     "text": [
      "epoch: 1\n",
      "9.748070723526961\n",
      "epoch: 2\n",
      "8.02033131939548\n",
      "epoch: 3\n",
      "5.5100287857589185\n",
      "epoch: 4\n",
      "1.534963417615924\n",
      "epoch: 5\n",
      "0.48578434599029435\n",
      "epoch: 6\n",
      "0.24576857092080417\n",
      "epoch: 7\n",
      "0.14954587660560553\n",
      "epoch: 8\n",
      "0.0928432532338673\n",
      "epoch: 9\n",
      "0.06852885646830228\n",
      "epoch: 10\n",
      "0.050436224540943035\n"
     ]
    },
    {
     "ename": "ValueError",
     "evalue": "x and y must have same first dimension, but have shapes (9,) and (10,)",
     "output_type": "error",
     "traceback": [
      "\u001b[1;31m---------------------------------------------------------------------------\u001b[0m",
      "\u001b[1;31mValueError\u001b[0m                                Traceback (most recent call last)",
      "Cell \u001b[1;32mIn[8], line 34\u001b[0m\n\u001b[0;32m     31\u001b[0m     train_loss\u001b[39m.\u001b[39mappend(epoch_average_loss)\n\u001b[0;32m     33\u001b[0m x \u001b[39m=\u001b[39m \u001b[39mrange\u001b[39m(\u001b[39m1\u001b[39m,TRAIN_NUM_EPOCHS)\n\u001b[1;32m---> 34\u001b[0m plt\u001b[39m.\u001b[39;49mplot(x, train_loss)\n\u001b[0;32m     35\u001b[0m plt\u001b[39m.\u001b[39mxlabel(\u001b[39m'\u001b[39m\u001b[39mEpoch\u001b[39m\u001b[39m'\u001b[39m)\n\u001b[0;32m     36\u001b[0m plt\u001b[39m.\u001b[39mylabel(\u001b[39m'\u001b[39m\u001b[39mLoss\u001b[39m\u001b[39m'\u001b[39m)\n",
      "File \u001b[1;32md:\\Code\\University\\Code_LMU\\GAN-BERT-Classifier\\py39env\\lib\\site-packages\\matplotlib\\pyplot.py:2740\u001b[0m, in \u001b[0;36mplot\u001b[1;34m(scalex, scaley, data, *args, **kwargs)\u001b[0m\n\u001b[0;32m   2738\u001b[0m \u001b[39m@_copy_docstring_and_deprecators\u001b[39m(Axes\u001b[39m.\u001b[39mplot)\n\u001b[0;32m   2739\u001b[0m \u001b[39mdef\u001b[39;00m \u001b[39mplot\u001b[39m(\u001b[39m*\u001b[39margs, scalex\u001b[39m=\u001b[39m\u001b[39mTrue\u001b[39;00m, scaley\u001b[39m=\u001b[39m\u001b[39mTrue\u001b[39;00m, data\u001b[39m=\u001b[39m\u001b[39mNone\u001b[39;00m, \u001b[39m*\u001b[39m\u001b[39m*\u001b[39mkwargs):\n\u001b[1;32m-> 2740\u001b[0m     \u001b[39mreturn\u001b[39;00m gca()\u001b[39m.\u001b[39mplot(\n\u001b[0;32m   2741\u001b[0m         \u001b[39m*\u001b[39margs, scalex\u001b[39m=\u001b[39mscalex, scaley\u001b[39m=\u001b[39mscaley,\n\u001b[0;32m   2742\u001b[0m         \u001b[39m*\u001b[39m\u001b[39m*\u001b[39m({\u001b[39m\"\u001b[39m\u001b[39mdata\u001b[39m\u001b[39m\"\u001b[39m: data} \u001b[39mif\u001b[39;00m data \u001b[39mis\u001b[39;00m \u001b[39mnot\u001b[39;00m \u001b[39mNone\u001b[39;00m \u001b[39melse\u001b[39;00m {}), \u001b[39m*\u001b[39m\u001b[39m*\u001b[39mkwargs)\n",
      "File \u001b[1;32md:\\Code\\University\\Code_LMU\\GAN-BERT-Classifier\\py39env\\lib\\site-packages\\matplotlib\\axes\\_axes.py:1662\u001b[0m, in \u001b[0;36mAxes.plot\u001b[1;34m(self, scalex, scaley, data, *args, **kwargs)\u001b[0m\n\u001b[0;32m   1419\u001b[0m \u001b[39m\u001b[39m\u001b[39m\"\"\"\u001b[39;00m\n\u001b[0;32m   1420\u001b[0m \u001b[39mPlot y versus x as lines and/or markers.\u001b[39;00m\n\u001b[0;32m   1421\u001b[0m \n\u001b[1;32m   (...)\u001b[0m\n\u001b[0;32m   1659\u001b[0m \u001b[39m(``'green'``) or hex strings (``'#008000'``).\u001b[39;00m\n\u001b[0;32m   1660\u001b[0m \u001b[39m\"\"\"\u001b[39;00m\n\u001b[0;32m   1661\u001b[0m kwargs \u001b[39m=\u001b[39m cbook\u001b[39m.\u001b[39mnormalize_kwargs(kwargs, mlines\u001b[39m.\u001b[39mLine2D)\n\u001b[1;32m-> 1662\u001b[0m lines \u001b[39m=\u001b[39m [\u001b[39m*\u001b[39m\u001b[39mself\u001b[39m\u001b[39m.\u001b[39m_get_lines(\u001b[39m*\u001b[39margs, data\u001b[39m=\u001b[39mdata, \u001b[39m*\u001b[39m\u001b[39m*\u001b[39mkwargs)]\n\u001b[0;32m   1663\u001b[0m \u001b[39mfor\u001b[39;00m line \u001b[39min\u001b[39;00m lines:\n\u001b[0;32m   1664\u001b[0m     \u001b[39mself\u001b[39m\u001b[39m.\u001b[39madd_line(line)\n",
      "File \u001b[1;32md:\\Code\\University\\Code_LMU\\GAN-BERT-Classifier\\py39env\\lib\\site-packages\\matplotlib\\axes\\_base.py:311\u001b[0m, in \u001b[0;36m_process_plot_var_args.__call__\u001b[1;34m(self, data, *args, **kwargs)\u001b[0m\n\u001b[0;32m    309\u001b[0m     this \u001b[39m+\u001b[39m\u001b[39m=\u001b[39m args[\u001b[39m0\u001b[39m],\n\u001b[0;32m    310\u001b[0m     args \u001b[39m=\u001b[39m args[\u001b[39m1\u001b[39m:]\n\u001b[1;32m--> 311\u001b[0m \u001b[39myield from\u001b[39;00m \u001b[39mself\u001b[39;49m\u001b[39m.\u001b[39;49m_plot_args(\n\u001b[0;32m    312\u001b[0m     this, kwargs, ambiguous_fmt_datakey\u001b[39m=\u001b[39;49mambiguous_fmt_datakey)\n",
      "File \u001b[1;32md:\\Code\\University\\Code_LMU\\GAN-BERT-Classifier\\py39env\\lib\\site-packages\\matplotlib\\axes\\_base.py:504\u001b[0m, in \u001b[0;36m_process_plot_var_args._plot_args\u001b[1;34m(self, tup, kwargs, return_kwargs, ambiguous_fmt_datakey)\u001b[0m\n\u001b[0;32m    501\u001b[0m     \u001b[39mself\u001b[39m\u001b[39m.\u001b[39maxes\u001b[39m.\u001b[39myaxis\u001b[39m.\u001b[39mupdate_units(y)\n\u001b[0;32m    503\u001b[0m \u001b[39mif\u001b[39;00m x\u001b[39m.\u001b[39mshape[\u001b[39m0\u001b[39m] \u001b[39m!=\u001b[39m y\u001b[39m.\u001b[39mshape[\u001b[39m0\u001b[39m]:\n\u001b[1;32m--> 504\u001b[0m     \u001b[39mraise\u001b[39;00m \u001b[39mValueError\u001b[39;00m(\u001b[39mf\u001b[39m\u001b[39m\"\u001b[39m\u001b[39mx and y must have same first dimension, but \u001b[39m\u001b[39m\"\u001b[39m\n\u001b[0;32m    505\u001b[0m                      \u001b[39mf\u001b[39m\u001b[39m\"\u001b[39m\u001b[39mhave shapes \u001b[39m\u001b[39m{\u001b[39;00mx\u001b[39m.\u001b[39mshape\u001b[39m}\u001b[39;00m\u001b[39m and \u001b[39m\u001b[39m{\u001b[39;00my\u001b[39m.\u001b[39mshape\u001b[39m}\u001b[39;00m\u001b[39m\"\u001b[39m)\n\u001b[0;32m    506\u001b[0m \u001b[39mif\u001b[39;00m x\u001b[39m.\u001b[39mndim \u001b[39m>\u001b[39m \u001b[39m2\u001b[39m \u001b[39mor\u001b[39;00m y\u001b[39m.\u001b[39mndim \u001b[39m>\u001b[39m \u001b[39m2\u001b[39m:\n\u001b[0;32m    507\u001b[0m     \u001b[39mraise\u001b[39;00m \u001b[39mValueError\u001b[39;00m(\u001b[39mf\u001b[39m\u001b[39m\"\u001b[39m\u001b[39mx and y can be no greater than 2D, but have \u001b[39m\u001b[39m\"\u001b[39m\n\u001b[0;32m    508\u001b[0m                      \u001b[39mf\u001b[39m\u001b[39m\"\u001b[39m\u001b[39mshapes \u001b[39m\u001b[39m{\u001b[39;00mx\u001b[39m.\u001b[39mshape\u001b[39m}\u001b[39;00m\u001b[39m and \u001b[39m\u001b[39m{\u001b[39;00my\u001b[39m.\u001b[39mshape\u001b[39m}\u001b[39;00m\u001b[39m\"\u001b[39m)\n",
      "\u001b[1;31mValueError\u001b[0m: x and y must have same first dimension, but have shapes (9,) and (10,)"
     ]
    },
    {
     "data": {
      "image/png": "[encoded data removed]",
      "text/plain": [
       "<Figure size 640x480 with 1 Axes>"
      ]
     },
     "metadata": {},
     "output_type": "display_data"
    }
   ],
   "source": [
    "train_loss = []\n",
    "for epoch in range(1, TRAIN_NUM_EPOCHS + 1):\n",
    "    print(f'epoch: {epoch}')\n",
    "    epoch_loss = []\n",
    "    for data in dataloader:\n",
    "        words    = data['word']\n",
    "        imgs     = data['image']\n",
    "        ids      = data['id']\n",
    "        optimizer.zero_grad()\n",
    "        # print(word)\n",
    "        # print(imgs.shape)\n",
    "        # print(id)\n",
    "        # print(ids.shape)\n",
    "        # read image    \n",
    "        outputs = model(imgs.to(device))\n",
    "        # print(output)\n",
    "        # softmax = torch.nn.Softmax()\n",
    "        # outputs = softmax(outputs)\n",
    "        # print(pred) \n",
    "        # print(preds.shape)\n",
    "        # print(ids.shape)\n",
    "        \n",
    "        loss = criterion(outputs, ids.to(device))\n",
    "        # print(\"Loss:\", loss.item())\n",
    "        epoch_loss.append(loss.item())\n",
    "        loss.backward()\n",
    "        optimizer.step()\n",
    "        # torch.cuda.empty_cache()\n",
    "    epoch_average_loss = sum(epoch_loss)/len(epoch_loss)\n",
    "    print(epoch_average_loss)\n",
    "    train_loss.append(epoch_average_loss)\n",
    "\n",
    "x = range(1, TRAIN_NUM_EPOCHS+1)\n",
    "plt.plot(x, train_loss)\n",
    "plt.xlabel('Epoch')\n",
    "plt.ylabel('Loss')\n",
    "plt.title('Loss during Training')\n",
    "plt.savefig(PATH_TRAIN_LOSS_PLOT)\n",
    "plt.show()\n",
    "\n",
    "# TODO: save data as csv\n",
    "# TODO: validation (dev)\n"
   ]
  },
  {
   "cell_type": "code",
   "execution_count": 10,
   "metadata": {},
   "outputs": [
    {
     "data": {
      "image/png": "[encoded data removed]",
      "text/plain": [
       "<Figure size 640x480 with 1 Axes>"
      ]
     },
     "metadata": {},
     "output_type": "display_data"
    }
   ],
   "source": [
    "x = range(1, TRAIN_NUM_EPOCHS+1)\n",
    "plt.plot(x, train_loss, label=\"Train Loss\")\n",
    "plt.xlabel('Epoch')\n",
    "plt.ylabel('Loss')\n",
    "plt.title('Loss during Training')\n",
    "plt.legend()\n",
    "plt.savefig(PATH_TRAIN_LOSS_PLOT)\n",
    "plt.show()\n"
   ]
  },
  {
   "cell_type": "code",
   "execution_count": null,
   "metadata": {},
   "outputs": [],
   "source": [
    "torch.save(model, PATH_MODEL)"
   ]
  }
 ],
 "metadata": {
  "kernelspec": {
   "display_name": "py39env",
   "language": "python",
   "name": "py39env"
  },
  "language_info": {
   "codemirror_mode": {
    "name": "ipython",
    "version": 3
   },
   "file_extension": ".py",
   "mimetype": "text/x-python",
   "name": "python",
   "nbconvert_exporter": "python",
   "pygments_lexer": "ipython3",
   "version": "3.9.5"
  },
  "orig_nbformat": 4
 },
 "nbformat": 4,
 "nbformat_minor": 2
}
