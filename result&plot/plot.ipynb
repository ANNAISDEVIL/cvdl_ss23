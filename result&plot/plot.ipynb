{
 "cells": [
  {
   "cell_type": "code",
   "execution_count": null,
   "metadata": {},
   "outputs": [],
   "source": [
    "import pandas as pd\n",
    "import seaborn as sns \n",
    "import matplotlib.pyplot as plt\n",
    "import os\n",
    "from PIL import Image\n",
    "import warnings\n",
    "warnings.filterwarnings('ignore')"
   ]
  },
  {
   "cell_type": "code",
   "execution_count": null,
   "metadata": {},
   "outputs": [],
   "source": [
    "# we read the data\n",
    "df = pd.read_csv('result4plot.csv')\n",
    "\n",
    "# dataset defined by noise type\n",
    "cyrillic = df.loc[df['noise_type'].str.contains('cyrillic')] # all noise = cyrillic\n",
    "cyrillic.name = 'cyrillic'\n",
    "greek = df.loc[df['noise_type'].str.contains('greek')]\n",
    "greek.name  = 'greek'\n",
    "leetspeak = df.loc[df['noise_type'].str.contains('leetspeak')]\n",
    "leetspeak.name  = 'leetspeak'\n",
    "\n",
    "# dataset defined by font\n",
    "noto = df.loc[df['font'].str.contains('noto')] # all font = noto\n",
    "noto.name = 'noto_sans'\n",
    "typographer = df.loc[df['font'].str.contains('typographer')]\n",
    "typographer.name = 'typographer'\n",
    "turok = df.loc[df['font'].str.contains('turok')]\n",
    "turok.name = 'turok'\n",
    "mandatory = df.loc[df['font'].str.contains('mandatory')]\n",
    "mandatory.name = 'mandatory'\n",
    "\n",
    "# dataset defined by noise level\n",
    "noiselev0 = df.loc[df['noise_level'] == 0.0] # all noise level 0\n",
    "noiselev1 = df.loc[df['noise_level'] == 0.1] \n",
    "noiselev2 = df.loc[df['noise_level'] == 0.2]\n",
    "noiselev3 = df.loc[df['noise_level'] == 0.3]\n",
    "noiselev4 = df.loc[df['noise_level'] == 0.4]\n",
    "noiselev5 = df.loc[df['noise_level'] == 0.5]\n",
    "len(df)\n"
   ]
  },
  {
   "cell_type": "code",
   "execution_count": null,
   "metadata": {},
   "outputs": [],
   "source": [
    "leetspeak"
   ]
  },
  {
   "cell_type": "code",
   "execution_count": null,
   "metadata": {
    "scrolled": false
   },
   "outputs": [],
   "source": [
    "mandatory"
   ]
  },
  {
   "cell_type": "code",
   "execution_count": null,
   "metadata": {},
   "outputs": [],
   "source": [
    "noiselev0"
   ]
  },
  {
   "cell_type": "code",
   "execution_count": null,
   "metadata": {},
   "outputs": [],
   "source": [
    "noiselev1"
   ]
  },
  {
   "cell_type": "markdown",
   "metadata": {},
   "source": [
    "# Visualizing data\n",
    "\n",
    "### noise_type fixed"
   ]
  },
  {
   "cell_type": "code",
   "execution_count": null,
   "metadata": {},
   "outputs": [],
   "source": [
    "def plot_noise_type_fixed(dataset):\n",
    "    g = sns.relplot(\n",
    "        x='noise_level', y='accuracy', data=dataset,\n",
    "        hue='font', kind='line', markers=True,\n",
    "        err_style='bars', style='font', linewidth=3,\n",
    "        markersize=10, err_kws={'elinewidth': 4}\n",
    "    )\n",
    "    g.set_ylabels('Accuracy')\n",
    "    g.set_xlabels('Noise Level')\n",
    "    g.set(title='Fixed noise type:'+ dataset.name)\n",
    "\n",
    "    # Save the plot to the specified file path\n",
    "    g.savefig(\"./plots/noise_type_fixed/\" + dataset.name + \".jpg\")\n",
    "    plt.close('all')\n",
    "#     # Show the plot\n",
    "#     plt.show()"
   ]
  },
  {
   "cell_type": "code",
   "execution_count": null,
   "metadata": {},
   "outputs": [],
   "source": [
    "plot_noise_type_fixed(cyrillic)\n",
    "plot_noise_type_fixed(greek)\n",
    "plot_noise_type_fixed(leetspeak)"
   ]
  },
  {
   "cell_type": "code",
   "execution_count": null,
   "metadata": {},
   "outputs": [],
   "source": [
    "# List of JPG files in the specified directory\n",
    "file_names = [\"cyrillic.jpg\", \"greek.jpg\", \"leetspeak.jpg\"]  # Replace with your actual file names\n",
    "\n",
    "# Create a figure with 1 row and 3 columns of subplots\n",
    "fig, axes = plt.subplots(1, 3, figsize=(18, 6))\n",
    "\n",
    "# Iterate over each file and create a subplot with the image\n",
    "for ax, file_name in zip(axes, file_names):\n",
    "    # Load the image file\n",
    "    img = Image.open(f\"./plots/noise_type_fixed/{file_name}\")\n",
    "    ax.imshow(img)\n",
    "    ax.set_title(file_name[:-4])  # Set the title without the \".jpg\" extension\n",
    "    ax.axis('off')  # Turn off the axes\n",
    "\n",
    "# Adjust spacing between subplots\n",
    "plt.tight_layout()\n",
    "plt.savefig(\"./plots/noise_type_fixed/subgraphs\")\n",
    "# Show the subplots\n",
    "plt.show()"
   ]
  },
  {
   "cell_type": "markdown",
   "metadata": {},
   "source": [
    "### font fixed"
   ]
  },
  {
   "cell_type": "code",
   "execution_count": null,
   "metadata": {
    "scrolled": false
   },
   "outputs": [],
   "source": [
    "def plot_font_fixed(dataset):\n",
    "    g = sns.relplot(\n",
    "        x='noise_level', y='accuracy', data=dataset,\n",
    "        hue='noise_type', kind='line', markers=True,\n",
    "        err_style='bars', style='noise_type', linewidth=3,\n",
    "        markersize=10, err_kws={'elinewidth': 4}\n",
    "    )\n",
    "    g.set_ylabels('Accuracy')\n",
    "    g.set_xlabels('Noise Level')\n",
    "    g.set(title='Fixed font:'+ dataset.name)\n",
    "\n",
    "    # Save the plot to the specified file path\n",
    "    g.savefig(\"./plots/font_fixed/\" + dataset.name + \".jpg\")\n",
    "    plt.close('all')\n",
    "    \n",
    "# g = sns.relplot(x='noise_level', y='accuracy', data=mandatory, hue='noise_type',\n",
    "#                 kind='line',errorbar=('ci', 95), markers=True,  err_style='bars',\n",
    "#                 style='noise_type', linewidth = 3, markersize=10, err_kws={'elinewidth':4})\n",
    "# g.set_ylabels('Accuracy')\n",
    "# g.set_xlabels('Noise Level')\n",
    "# g.set(title='mandatory')"
   ]
  },
  {
   "cell_type": "code",
   "execution_count": null,
   "metadata": {},
   "outputs": [],
   "source": [
    "plot_font_fixed(noto)\n",
    "plot_font_fixed(typographer)\n",
    "plot_font_fixed(turok)\n",
    "plot_font_fixed(mandatory)"
   ]
  },
  {
   "cell_type": "code",
   "execution_count": null,
   "metadata": {},
   "outputs": [],
   "source": [
    "# Directory containing the individual JPG files\n",
    "input_folder = \"./plots/font_fixed/\"  # Replace with your folder path\n",
    "\n",
    "# List of JPG files in the specified directory\n",
    "file_names = [\"noto_sans.jpg\", \"typographer.jpg\", \"turok.jpg\", \"mandatory.jpg\"]  # Replace with your actual file names\n",
    "\n",
    "# Determine the number of subplots\n",
    "num_subplots = min(len(file_names), 4)  # Ensure there are no more than 4 subplots\n",
    "\n",
    "# Create a figure with 2 rows and 2 columns of subplots\n",
    "fig, axes = plt.subplots(2, 2, figsize=(12, 8))\n",
    "\n",
    "# Flatten the axes array to iterate over it in a linear fashion\n",
    "flat_axes = axes.flatten()\n",
    "\n",
    "# Iterate over each file and create a subplot with the image\n",
    "for i, file_name in enumerate(file_names[:num_subplots]):\n",
    "    if os.path.exists(os.path.join(input_folder, file_name)):\n",
    "        # Load the image file\n",
    "        img = Image.open(os.path.join(input_folder, file_name))\n",
    "        ax = flat_axes[i]\n",
    "        ax.imshow(img)\n",
    "        ax.set_title(file_name[:-4])  # Set the title without the \".jpg\" extension\n",
    "        ax.axis(\"off\")  # Turn off the axes\n",
    "\n",
    "# Adjust spacing between subplots\n",
    "plt.tight_layout()\n",
    "\n",
    "# Save the subplots as a single image file in the input_folder\n",
    "output_path = os.path.join(input_folder, \"combined_subplots.jpg\")\n",
    "plt.savefig(output_path)\n",
    "\n",
    "# Show the subplots\n",
    "plt.show()"
   ]
  },
  {
   "cell_type": "markdown",
   "metadata": {},
   "source": [
    "### Compare different noise levels and fonts"
   ]
  },
  {
   "cell_type": "code",
   "execution_count": null,
   "metadata": {
    "scrolled": false
   },
   "outputs": [],
   "source": [
    "g = sns.relplot(x='font', y='accuracy', data=df, hue='noise_level',\n",
    "                kind='line',errorbar=('ci', 55), markers=True,  err_style='bars',\n",
    "                style='noise_level', linewidth = 2, markersize=10, err_kws={'elinewidth':4})\n",
    "g.set_ylabels('Accuracy')\n",
    "g.set_xlabels('Font')\n",
    "g.set(title='Compare different noise levels and fonts')\n",
    "g.set(ylim = (0, 100))\n",
    "g.savefig(\"./plots/diff_noiselevels&fonts.jpg\")"
   ]
  },
  {
   "cell_type": "markdown",
   "metadata": {},
   "source": [
    "# Statistical analysis\n",
    "\n",
    "### ANOVA\n",
    "If we want to compare the means of more than 2 groups, we need to perform an Analysis of Variance (ANOVA). The null-hypothesis in the ANOVA states that there is no difference between the means of the groups. A p-value less than 0.05 (at 95 %) rejects this general hypothesis without indicating which groups are different from one another."
   ]
  },
  {
   "cell_type": "code",
   "execution_count": null,
   "metadata": {},
   "outputs": [],
   "source": [
    "import scipy\n",
    "# for an ANOVA we need the python module statsmodels (statistical models)\n",
    "import statsmodels.api as sm  \n",
    "\n",
    "# the particular function we need is called ols()\n",
    "# (ols: ordinary least squares, that is the type of fitting)\n",
    "from statsmodels.formula.api import ols   "
   ]
  },
  {
   "cell_type": "code",
   "execution_count": null,
   "metadata": {
    "scrolled": true
   },
   "outputs": [],
   "source": [
    "# we need to set up a 'formula' for the model. This formula is similar to the syntax in R.\n",
    "\n",
    "# on the left side of the tilde we put the dependent variable\n",
    "# on the right side of the tilde we state the independent variables \n",
    "# the C( )  indicates that we consider the variable as a categorical variable (and not continuous)\n",
    "# the sign + is not a sum, it is to indicate more than one variable.\n",
    "# the sign * is not a multiplication, it is to indicate we want to also model interactions between the variables\n",
    "\n",
    "# we call ols() passing the model 'formula'\n",
    "mod = ols('accuracy ~ C(font) + C(noise_type) + C(noise_level)',data=df)\n",
    "\n",
    "# we fit the model\n",
    "fit = mod.fit()\n",
    "\n",
    "# we show the ANOVA table\n",
    "sm.stats.anova_lm(fit)"
   ]
  },
  {
   "cell_type": "markdown",
   "metadata": {},
   "source": [
    "The ANOVA table shows that for both variables k and g there is a signifficant effect (p-values < 0.05 for 95 % confidence). There is also a signifficant interaction term ('C(k):C(g)').\n",
    "\n",
    "So the results show that all three variables will have a significant effect on the prediction results."
   ]
  },
  {
   "cell_type": "code",
   "execution_count": null,
   "metadata": {},
   "outputs": [],
   "source": []
  }
 ],
 "metadata": {
  "kernelspec": {
   "display_name": "cv23",
   "language": "python",
   "name": "cv23"
  },
  "language_info": {
   "codemirror_mode": {
    "name": "ipython",
    "version": 3
   },
   "file_extension": ".py",
   "mimetype": "text/x-python",
   "name": "python",
   "nbconvert_exporter": "python",
   "pygments_lexer": "ipython3",
   "version": "3.8.17"
  }
 },
 "nbformat": 4,
 "nbformat_minor": 2
}
